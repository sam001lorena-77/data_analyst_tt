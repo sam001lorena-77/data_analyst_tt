{
 "cells": [
  {
   "cell_type": "markdown",
   "id": "542be834-52f4-4f5c-bc73-511f5734ad49",
   "metadata": {},
   "source": [
    "# ¡Hola Salma! <a class=\"tocSkip\"></a>\n",
    "\n",
    "Mi nombre es Oscar Flores y tengo el gusto de revisar tu proyecto. Si tienes algún comentario que quieras agregar en tus respuestas te puedes referir a mi como Oscar, no hay problema que me trates de tú.\n",
    "\n",
    "Si veo un error en la primera revisión solamente lo señalaré y dejaré que tú encuentres de qué se trata y cómo arreglarlo. Debo prepararte para que te desempeñes como especialista en Data, en un trabajo real, el responsable a cargo tuyo hará lo mismo. Si aún tienes dificultades para resolver esta tarea, te daré indicaciones más precisas en una siguiente iteración.\n",
    "\n",
    "Te dejaré mis comentarios más abajo - **por favor, no los muevas, modifiques o borres**\n",
    "\n",
    "Comenzaré mis comentarios con un resumen de los puntos que están bien, aquellos que debes corregir y aquellos que puedes mejorar. Luego deberás revisar todo el notebook para leer mis comentarios, los cuales estarán en rectángulos de color verde, amarillo o rojo como siguen:\n",
    "\n",
    "<div class='alert alert-block alert-success'>\n",
    "<b>Comentario de Reviewer</b> <a class='tocSkip'></a>\n",
    "\n",
    "Muy bien! Toda la respuesta fue lograda satisfactoriamente.\n",
    "</div>\n",
    "\n",
    "<div class='alert alert-block alert-warning'>\n",
    "<b>Comentario de Reviewer</b> <a class='tocSkip'></a>\n",
    "\n",
    "Existen detalles a mejorar. Existen recomendaciones.\n",
    "</div>\n",
    "\n",
    "<div class='alert alert-block alert-danger'>\n",
    "\n",
    "<b>Comentario de Reviewer</b> <a class='tocSkip'></a>\n",
    "\n",
    "Se necesitan correcciones en el bloque. El trabajo no puede ser aceptado con comentarios en rojo sin solucionar.\n",
    "</div>\n",
    "\n",
    "Cualquier comentario que quieras agregar entre iteraciones de revisión lo puedes hacer de la siguiente manera:\n",
    "\n",
    "<div class='alert alert-block alert-info'>\n",
    "<b>Respuesta estudiante.</b> <a class='tocSkip'></a>\n",
    "</div>\n",
    "\n",
    "Mucho éxito en el proyecto!"
   ]
  },
  {
   "cell_type": "markdown",
   "id": "e0ce9d4d-1d11-4334-9ad6-c6408e45c07a",
   "metadata": {},
   "source": [
    "## Resumen de la revisión v1 <a class=\"tocSkip\"></a>"
   ]
  },
  {
   "cell_type": "markdown",
   "id": "41b81322-bb13-45d9-9748-dd62ea3102c0",
   "metadata": {},
   "source": [
    "<div class=\"alert alert-block alert-success\">\n",
    "<b>Comentario de Revisor</b> <a class=\"tocSkip\"></a>\n",
    "\n",
    "Hola Salma, ¿cómo estás? Espero que todo esté bien por tu lado.\n",
    "\n",
    "Buen trabajo! Has completado correctamente todo lo necesario del notebook, realizaste un gran trabajo aplicando los conocimientos de python necesarios, se nota que los manejas muy bien. No tengo comentarios de corrección, tu proyecto está aprobado. Felicitaciones por completar el notebook en la primera revisión, mucho éxito en el siguiente sprint!\n",
    "\n",
    "Saludos!\n",
    "\n",
    "</div>"
   ]
  },
  {
   "cell_type": "markdown",
   "id": "8b2270c8-010c-4a66-9660-9a48df7a17e4",
   "metadata": {},
   "source": [
    "----"
   ]
  },
  {
   "cell_type": "markdown",
   "id": "bf777816",
   "metadata": {
    "id": "bf777816"
   },
   "source": [
    "\n",
    "# Proyecto 2 — Segunda Fase\n",
    "\n",
    "¡Bienvenido/a! Como miembro del equipo analítico, ya sentaste las bases en la primera parte del proyecto. Ahora, aplicarás técnicas más avanzadas para procesar y analizar los datos de los clientes.\n",
    "\n",
    "\n",
    "Como parte del equipo de análisis de Store 1, has recibido una base de datos cruda con información de clientes y sus compras. Tu objetivo es limpiar y procesar estos datos para poder responder a preguntas clave del negocio, como identificar clientes leales, analizar ingresos por categoría, y encontrar oportunidades de marketing segmentado.\n",
    "\n",
    "---\n"
   ]
  },
  {
   "cell_type": "markdown",
   "id": "52e77052",
   "metadata": {
    "id": "52e77052"
   },
   "source": [
    "\n",
    "## Introducción de los datos\n",
    "\n",
    "La tienda Store 1 almacena información de sus usuarios en listas anidadas. Cada sublista contiene:\n",
    "\n",
    "- `user_id`: identificador único\n",
    "- `user_name`: nombre y apellido en un solo string\n",
    "- `user_age`: edad\n",
    "- `fav_categories`: categorías favoritas de compra (mayúsculas)\n",
    "- `total_spendings`: montos correspondientes a cada categoría\n",
    "\n",
    "Ejemplo:\n",
    "\n",
    "```python\n",
    "users = [\n",
    "    ['32415', ' mike_reed ', 32.0, ['ELECTRONICS', 'SPORT', 'BOOKS'], [894, 213, 173]],\n",
    "    ...\n",
    "]\n",
    "```\n"
   ]
  },
  {
   "cell_type": "markdown",
   "id": "qNY8a8aV9hba",
   "metadata": {
    "id": "qNY8a8aV9hba"
   },
   "source": [
    "## Paso 1: Limpieza inicial de un registro de cliente\n",
    "\n",
    "Este paso sirve como base para entender los elementos clave de un registro antes de escalar el proceso al resto de los usuarios.\n",
    "\n",
    "Queremos aplicar las siguientes transformaciones:\n",
    "\n",
    "1. Eliminar espacios en blanco y guiones bajos (`_`) del nombre del usuario.\n",
    "2. Dividir el nombre en una lista separando nombre y apellido.\n",
    "3. Convertir la edad del usuario a un número entero.\n",
    "\n",
    "**Instrucciones**:\n",
    "\n",
    "- Usa la variable `user` predefinida.\n",
    "- Modifica los valores directamente en esa lista.\n",
    "- Muestra el resultado final con `print(user)`.\n",
    "\n"
   ]
  },
  {
   "cell_type": "code",
   "execution_count": 2,
   "id": "UVTQJ13U9nXo",
   "metadata": {
    "colab": {
     "base_uri": "https://localhost:8080/"
    },
    "id": "UVTQJ13U9nXo",
    "outputId": "ab5afb86-b00d-4439-819d-e19ae56ff770"
   },
   "outputs": [
    {
     "name": "stdout",
     "output_type": "stream",
     "text": [
      "['32415', ['mike', 'reed'], 32, ['ELECTRONICS', 'SPORT', 'BOOKS'], [894, 213, 173]]\n"
     ]
    }
   ],
   "source": [
    "# Usuario de ejemplo\n",
    "user = ['32415', ' mike_reed ', 32.0, ['ELECTRONICS', 'SPORT', 'BOOKS'], [894, 213, 173]]\n",
    "\n",
    "# Paso 1: limpiar y dividir el nombre\n",
    "user[1] = user[1].strip().replace(\"_\",\" \")\n",
    "\n",
    "# Paso 2: dividir el nombre en una lista\n",
    "user[1]  = user[1].split(\" \")# escribe tu código aquí\n",
    "\n",
    "# Paso 3: convertir la edad a entero\n",
    "user[2] = int(user[2])\n",
    "\n",
    "# Mostrar resultado\n",
    "print(user)\n"
   ]
  },
  {
   "cell_type": "markdown",
   "id": "cca5098d-4f8c-4133-bbf9-ed3d84b188e1",
   "metadata": {},
   "source": [
    "<div class=\"alert alert-block alert-success\">\n",
    "<b>Comentario de Revisor</b> <a class=\"tocSkip\"></a>\n",
    "\n",
    "Muy bien, correcto uso de los métodos `strip()`, `replace()` y `split()`. \n",
    "\n",
    "Es importante notar que todos estos métodos retornan una copia del string sobre el que se aplican y no modifican el original\n",
    "\n",
    "</div>"
   ]
  },
  {
   "cell_type": "markdown",
   "id": "F9HTAOgQAn4R",
   "metadata": {
    "id": "F9HTAOgQAn4R"
   },
   "source": [
    "<details>\n",
    "<summary>Haz clic para ver la pista</summary>\n",
    "\n",
    "1. **Recortar y reemplazar:** utiliza `strip()` para eliminar espacios iniciales y finales del nombre del usuario y `replace('_', ' ')` para eliminar guiones bajos con espacios.\n",
    "2. **Convertir la edad:** convierte la edad en entero utilizando la función `int()`.\n",
    "3. **Separar el nombre:** utiliza el método `split()` para separar el nombre y el apellido, creando una sublista."
   ]
  },
  {
   "cell_type": "markdown",
   "id": "OTkEIE7u_kBA",
   "metadata": {
    "id": "OTkEIE7u_kBA"
   },
   "source": [
    "## Paso 2: Convertir las categorías a minúsculas\n",
    "\n",
    "En los datos actuales, las categorías favoritas de los clientes están escritas completamente en mayúsculas. Este formato puede causar inconsistencias en análisis posteriores, como al agrupar, filtrar o contar categorías. Para garantizar una lectura uniforme y facilitar futuras operaciones, es necesario normalizar estos valores a minúsculas.\n",
    "\n",
    "En este paso, trabajaremos con una lista de ejemplo llamada fav_categories y construiremos una nueva lista llamada fav_categories_low, que contendrá las versiones en minúsculas de cada categoría.\n",
    "\n",
    "Instrucciones:\n",
    "\n",
    "1. Crea una nueva lista donde cada categoría esté en minúscula.\n",
    "\n",
    "2. Usando un bucle, recorre y transforma cada elemento de la lista con las categorias en mayuscula para que queden en minuscula.\n",
    "\n",
    "3. Anade cada elemento a la nueva lista fav_categories_low\n",
    "\n",
    "4. Muestra el resultado utilizando print para verificar que la conversión fue exitosa."
   ]
  },
  {
   "cell_type": "code",
   "execution_count": 1,
   "id": "6O748VFu_mn3",
   "metadata": {
    "colab": {
     "base_uri": "https://localhost:8080/"
    },
    "id": "6O748VFu_mn3",
    "outputId": "1ebbcf0f-754d-415a-f71d-c0d304bd3459"
   },
   "outputs": [
    {
     "name": "stdout",
     "output_type": "stream",
     "text": [
      "['electronics', 'sport', 'books']\n"
     ]
    }
   ],
   "source": [
    "# Lista original de categorías favoritas escritas en mayúsculas\n",
    "fav_categories = ['ELECTRONICS', 'SPORT', 'BOOKS']\n",
    "\n",
    "# 1. Lista vacía donde almacenaremos las categorías convertidas a minúsculas\n",
    "fav_categories_low = []\n",
    "\n",
    "# 2. Recorremos cada categoría en la lista original\n",
    "for category in fav_categories:# escribe tu código aquí\n",
    "    # 2. Convertimos la categoría a minúscula utilizando el método lower()\n",
    "    lowered_category = category.lower()# escribe tu código aquí\n",
    "\n",
    "    # 3. Agregamos la categoría convertida a la nueva lista\n",
    "    fav_categories_low.append(lowered_category)# escribe tu código aquí\n",
    "\n",
    "# 4. Mostramos en pantalla la lista resultante con las categorías en minúsculas\n",
    "print(fav_categories_low)\n"
   ]
  },
  {
   "cell_type": "markdown",
   "id": "3e37f097-e6d1-488e-b78e-1d00d439c482",
   "metadata": {},
   "source": [
    "<div class=\"alert alert-block alert-success\">\n",
    "<b>Comentario de Revisor</b> <a class=\"tocSkip\"></a>\n",
    "\n",
    "Bien hecho, se itera y usa `lower()` correctamente\n",
    "\n",
    "</div>"
   ]
  },
  {
   "cell_type": "markdown",
   "id": "4cQm6Sf1_qMn",
   "metadata": {
    "id": "4cQm6Sf1_qMn"
   },
   "source": [
    "<details>\n",
    "<summary>Haz clic para ver la pista</summary>\n",
    "\n",
    "1. Recorre la lista `fav_categories` con un bucle.\n",
    "2. Convierte cada categoría a minúscula utilizando el método `.lower()`.\n",
    "3. Agrega cada categoría convertida a la nueva lista `fav_categories_low` usando `.append()`.\n",
    "4. Muestra el resultado final con `print()`."
   ]
  },
  {
   "cell_type": "markdown",
   "id": "1dd1da3e",
   "metadata": {
    "id": "1dd1da3e"
   },
   "source": [
    "\n",
    "## Paso 3: Limpieza completa de un usuario\n",
    "\n",
    "Ahora vamos a empaquetar todo ese proceso dentro de una función reutilizable.\n",
    "\n",
    "Crea una función llamada `clean_user(user)` que realice estas acciones:\n",
    "\n",
    "1. Limpie espacios y guiones del nombre y lo divida en nombre/apellido.\n",
    "2. Convierta la edad a entero.\n",
    "3. Convierta las categorías a minúsculas.\n",
    "\n",
    "Usa el mismo código que escribiste en los pasos anteriores. Solo necesitas ajustarlo para que funcione dentro de una función.\n",
    "\n",
    "Prueba tu función con el usuario `test_user` y muestra el resultado.\n"
   ]
  },
  {
   "cell_type": "code",
   "execution_count": 24,
   "id": "c12d4efc",
   "metadata": {
    "colab": {
     "base_uri": "https://localhost:8080/",
     "height": 106
    },
    "id": "c12d4efc",
    "outputId": "48c395c9-9cfc-4a72-ed46-258ea05b7d32"
   },
   "outputs": [
    {
     "name": "stdout",
     "output_type": "stream",
     "text": [
      "['32415', ['mike', 'reed'], 32, ['electronics', 'sport', 'books'], [894, 213, 173]]\n"
     ]
    }
   ],
   "source": [
    "\n",
    "def clean_user(user):\n",
    "    # Limpia y divide el nombre\n",
    "    name = user[1].strip().replace(\"_\", \" \").split()# escribe tu código aquí\n",
    "\n",
    "    # Edad como entero\n",
    "    age =int(user[2])# escribe tu código aquí\n",
    "\n",
    "    # Categorías a minúsculas\n",
    "\n",
    "    categories = []\n",
    "    for category in user[3]:\n",
    "        lowered_category = category.lower()\n",
    "        categories.append(lowered_category)\n",
    "\n",
    "    return [user[0], name, age, categories, user[4]]\n",
    "\n",
    "# Prueba\n",
    "test_user = ['32415', ' mike_reed ', 32.0, ['ELECTRONICS', 'SPORT', 'BOOKS'], [894, 213, 173]]\n",
    "print(clean_user(test_user))\n"
   ]
  },
  {
   "cell_type": "markdown",
   "id": "097fdf2f-76e6-4c25-bbe8-4ddfc457bb41",
   "metadata": {},
   "source": [
    "<div class=\"alert alert-block alert-success\">\n",
    "<b>Comentario de Revisor</b> <a class=\"tocSkip\"></a>\n",
    "\n",
    "¡Buen trabajo! Has estructurado correctamente la función, con un correcto uso de todo lo anterior para completarla.\n",
    "\n",
    "</div>"
   ]
  },
  {
   "cell_type": "markdown",
   "id": "3ae085c7",
   "metadata": {
    "id": "3ae085c7"
   },
   "source": [
    "<details>\n",
    "<summary>Haz clic para ver la pista</summary>\n",
    "\n",
    "Crea una función llamada clean_user que reciba una lista user como argumento.\n",
    "\n",
    "Dentro de la función, limpia el nombre usando .strip() y .replace() y luego divídelo con .split().\n",
    "\n",
    "Convierte la edad a entero usando int().\n",
    "\n",
    "Recorre la lista de categorías con un bucle o una lista por comprensión y usa .lower() en cada elemento.\n",
    "\n",
    "Devuelve una nueva lista con los datos limpios en el mismo orden que el original.\n",
    "\n",
    "No olvides probar tu función con test_user y mostrar el resultado con print()."
   ]
  },
  {
   "cell_type": "markdown",
   "id": "8322ba1a",
   "metadata": {
    "id": "8322ba1a"
   },
   "source": [
    "\n",
    "## Paso 4: Limpieza de toda la base de usuarios\n",
    "\n",
    "Ya tienes la función `clean_user()` funcionando correctamente. Ahora es momento de aplicarla a todos los registros de clientes.\n",
    "\n",
    "1. Itera sobre la lista `users_raw`,\n",
    "2. Usa la función `clean_user()` para limpiar cada usuario,\n",
    "3. Guarda los resultados en una nueva lista llamada `users_clean`.\n",
    "\n",
    "Al final, imprime `users_clean` para verificar que todos los usuarios han sido transformados correctamente.\n"
   ]
  },
  {
   "cell_type": "code",
   "execution_count": 27,
   "id": "92a4fd70",
   "metadata": {
    "colab": {
     "base_uri": "https://localhost:8080/"
    },
    "id": "92a4fd70",
    "outputId": "93a85ff9-60cc-4d1d-a9f9-0ee1b35fb236"
   },
   "outputs": [
    {
     "name": "stdout",
     "output_type": "stream",
     "text": [
      "[['32415', ['mike', 'reed'], 32, ['electronics', 'sport', 'books'], [894, 213, 173]], ['31980', ['kate', 'morgan'], 24, ['clothes', 'books'], [439, 390]], ['32156', ['john', 'doe'], 37, ['electronics', 'home', 'food'], [459, 120, 99]], ['32761', ['SAMANTHA', 'SMITH'], 29, ['clothes', 'electronics', 'beauty'], [299, 679, 85]], ['32984', ['David', 'White'], 41, ['books', 'home', 'sport'], [234, 329, 243]], ['33001', ['emily', 'brown'], 26, ['beauty', 'home', 'food'], [213, 659, 79]], ['33767', ['Maria', 'Garcia'], 33, ['clothes', 'food', 'beauty'], [499, 189, 63]], ['33912', ['JOSE', 'MARTINEZ'], 22, ['sport', 'electronics', 'home'], [259, 549, 109]], ['34009', ['lisa', 'wilson'], 35, ['home', 'books', 'clothes'], [329, 189, 329]], ['34278', ['James', 'Lee'], 28, ['beauty', 'clothes', 'electronics'], [189, 299, 579]]]\n"
     ]
    }
   ],
   "source": [
    "\n",
    "users_raw = [\n",
    "    ['32415', ' mike_reed ', 32.0, ['ELECTRONICS', 'SPORT', 'BOOKS'], [894, 213, 173]],\n",
    "    ['31980', 'kate morgan', 24.0, ['CLOTHES', 'BOOKS'], [439, 390]],\n",
    "    ['32156', ' john doe ', 37.0, ['ELECTRONICS', 'HOME', 'FOOD'], [459, 120, 99]],\n",
    "    ['32761', 'SAMANTHA SMITH', 29.0, ['CLOTHES', 'ELECTRONICS', 'BEAUTY'], [299, 679, 85]],\n",
    "    ['32984', 'David White', 41.0, ['BOOKS', 'HOME', 'SPORT'], [234, 329, 243]],\n",
    "    ['33001', 'emily brown', 26.0, ['BEAUTY', 'HOME', 'FOOD'], [213, 659, 79]],\n",
    "    ['33767', ' Maria Garcia', 33.0, ['CLOTHES', 'FOOD', 'BEAUTY'], [499, 189, 63]],\n",
    "    ['33912', 'JOSE MARTINEZ', 22.0, ['SPORT', 'ELECTRONICS', 'HOME'], [259, 549, 109]],\n",
    "    ['34009', 'lisa wilson ', 35.0, ['HOME', 'BOOKS', 'CLOTHES'], [329, 189, 329]],\n",
    "    ['34278', 'James Lee', 28.0, ['BEAUTY', 'CLOTHES', 'ELECTRONICS'], [189, 299, 579]]\n",
    "]\n",
    "\n",
    "users_clean = []\n",
    "\n",
    "for cliente in users_raw:\n",
    "    x=clean_user(cliente)\n",
    "    users_clean.append(x)# escribe tu código aquí\n",
    "\n",
    "\n",
    "print(users_clean)\n"
   ]
  },
  {
   "cell_type": "markdown",
   "id": "b979891b-72d8-438c-9c03-69a1d944f3db",
   "metadata": {},
   "source": [
    "<div class=\"alert alert-block alert-success\">\n",
    "<b>Comentario de Revisor</b> <a class=\"tocSkip\"></a>\n",
    "\n",
    "Muy bien, la iteración por todos los usuarios y la aplicación de la función se realizó correctamente.\n",
    "\n",
    "</div>"
   ]
  },
  {
   "cell_type": "markdown",
   "id": "32443353",
   "metadata": {
    "id": "32443353"
   },
   "source": [
    "<details>\n",
    "<summary>Haz clic para ver la pista</summary>\n",
    "\n",
    "Usa un bucle for para recorrer la lista users_raw. En cada vuelta, aplica la función clean_user() al usuario actual y guarda el resultado en una nueva lista llamada users_clean. Recuerda llenarla con .append()."
   ]
  },
  {
   "cell_type": "markdown",
   "id": "06335abb",
   "metadata": {
    "id": "06335abb"
   },
   "source": [
    "\n",
    "## Paso 5: Calcular ingresos totales\n",
    "\n",
    "Ahora que tienes todos los registros de clientes limpios, el siguiente paso es comenzar a generar insights que puedan ayudar a la empresa a tomar decisiones estratégicas.\n",
    "\n",
    "La empresa desea conocer sus ingresos totales.\n",
    "\n",
    "Para calcular los ingresos de la empresa, sigue estos pasos:\n",
    "\n",
    "1. Crea una variable `revenue` con valor inicial 0.\n",
    "2. Itera sobre la lista `users_clean` con un bucle `for`.\n",
    "3. En cada iteración, extrae la lista de gastos de cada usuario (la última posición de la sublista).\n",
    "4. Suma esos valores con `sum()` y añádelos a `revenue`.\n",
    "5. Al finalizar, imprime el resultado final para mostrar el ingreso total generado por todos los usuarios.\n"
   ]
  },
  {
   "cell_type": "code",
   "execution_count": 28,
   "id": "e52afb0f",
   "metadata": {
    "colab": {
     "base_uri": "https://localhost:8080/"
    },
    "id": "e52afb0f",
    "outputId": "9151b8db-b55f-44f4-ee67-e50d8c06a168"
   },
   "outputs": [
    {
     "name": "stdout",
     "output_type": "stream",
     "text": [
      "9189\n"
     ]
    }
   ],
   "source": [
    "\n",
    "users_clean = [['32415', ['mike', 'reed'], 32, ['electronics', 'sport', 'books'], [894, 213, 173]],\n",
    "         \t\t\t ['31980', ['kate', 'morgan'], 24, ['clothes', 'books'], [439, 390]],\n",
    "         \t\t\t ['32156', ['john', 'doe'], 37, ['electronics', 'home', 'food'], [459, 120, 99]],\n",
    "         \t\t\t ['32761', ['samantha', 'smith'], 29, ['clothes', 'electronics', 'beauty'], [299, 679, 85]],\n",
    "         \t\t\t ['32984', ['david', 'white'], 41, ['books', 'home', 'sport'], [234, 329, 243]],\n",
    "         \t\t\t ['33001', ['emily', 'brown'], 26, ['beauty', 'home', 'food'], [213, 659, 79]],\n",
    "         \t\t\t ['33767', ['maria', 'garcia'], 33, ['clothes', 'food', 'beauty'], [499, 189, 63]],\n",
    "         \t\t\t ['33912', ['jose', 'martinez'], 22, ['sport', 'electronics', 'home'], [259, 549, 109]],\n",
    "         \t\t\t ['34009', ['lisa', 'wilson'], 35, ['home', 'books', 'clothes'], [329, 189, 329]],\n",
    "         \t\t\t ['34278', ['james', 'lee'], 28, ['beauty', 'clothes', 'electronics'], [189, 299, 579]]]\n",
    "\n",
    "revenue = 0\n",
    "\n",
    "for client in users_clean:\n",
    "    gastos= client[-1]\n",
    "    totalg=sum(gastos)\n",
    "    revenue +=totalg\n",
    "\n",
    "print(revenue)"
   ]
  },
  {
   "cell_type": "markdown",
   "id": "d429fa41-4210-4bf4-9f11-15012f5dd392",
   "metadata": {},
   "source": [
    "<div class=\"alert alert-block alert-success\">\n",
    "<b>Comentario de Revisor</b> <a class=\"tocSkip\"></a>\n",
    "\n",
    "Bien hecho, buen uso de `sum()` y de la iteración de la función para obtener el total de todos los usuarios.\n",
    "\n",
    "</div>"
   ]
  },
  {
   "cell_type": "markdown",
   "id": "fd02d140",
   "metadata": {
    "id": "fd02d140"
   },
   "source": [
    "<details>\n",
    "<summary>Haz clic para ver la pista</summary>\n",
    "\n",
    "Analiza los objetivos del paso actual y reflexiona sobre qué estructura de control o función te ayudará a resolverlo. Reutiliza variables clave como `user`, `users_clean`, o `total_spendings` si ya las has usado previamente. Apóyate en funciones como `.lower()`, `.append()`, `sum()`, o bucles `for` y `while` según el caso."
   ]
  },
  {
   "cell_type": "markdown",
   "id": "1df1faed",
   "metadata": {
    "id": "1df1faed"
   },
   "source": [
    "\n",
    "## Paso 6: Usuarios menores de 30 años\n",
    "\n",
    "El equipo de marketing quiere segmentar a los usuarios jóvenes para campañas específicas. Vamos a identificarlos.\n",
    "\n",
    "Recorre la lista de usuarios `users_clean` que has preparado anteriormente y muestra los nombres de los clientes menores de 30 años.\n",
    "\n",
    "#### Pasos:\n",
    "1. Escribe un bucle `for` que recorra cada usuario en `users_clean`.\n",
    "\n",
    "2. Agrega una condición `if` para seleccionar a los usuarios menores de 30 años.\n",
    "\n",
    "3. Dentro del bloque, imprime solo el primer elemento del nombre del usuario.\n",
    "\n",
    "📌 Recuerda:\n",
    "\n",
    "Si un elemento dentro de la lista contiene otra lista (como el nombre del usuario), puedes acceder a sus valores usando múltiples índices. Primero accede a la posición del nombre completo, y luego selecciona la parte específica que quieras mostrar.\n",
    "\n",
    "Al ejecutar el código, deberás ver los nombres de los usuarios menores de 30 años.\n"
   ]
  },
  {
   "cell_type": "code",
   "execution_count": 38,
   "id": "a24763b7",
   "metadata": {
    "colab": {
     "base_uri": "https://localhost:8080/"
    },
    "id": "a24763b7",
    "outputId": "da9aaca3-f549-4bc5-863a-4357c5f2eb87"
   },
   "outputs": [
    {
     "name": "stdout",
     "output_type": "stream",
     "text": [
      "kate\n",
      "samantha\n",
      "emily\n",
      "jose\n",
      "james\n"
     ]
    }
   ],
   "source": [
    "users_clean = [['32415', ['mike', 'reed'], 32, ['electronics', 'sport', 'books'], [894, 213, 173]],\n",
    "         \t\t\t ['31980', ['kate', 'morgan'], 24, ['clothes', 'books'], [439, 390]],\n",
    "         \t\t\t ['32156', ['john', 'doe'], 37, ['electronics', 'home', 'food'], [459, 120, 99]],\n",
    "         \t\t\t ['32761', ['samantha', 'smith'], 29, ['clothes', 'electronics', 'beauty'], [299, 679, 85]],\n",
    "         \t\t\t ['32984', ['david', 'white'], 41, ['books', 'home', 'sport'], [234, 329, 243]],\n",
    "         \t\t\t ['33001', ['emily', 'brown'], 26, ['beauty', 'home', 'food'], [213, 659, 79]],\n",
    "         \t\t\t ['33767', ['maria', 'garcia'], 33, ['clothes', 'food', 'beauty'], [499, 189, 63]],\n",
    "         \t\t\t ['33912', ['jose', 'martinez'], 22, ['sport', 'electronics', 'home'], [259, 549, 109]],\n",
    "         \t\t\t ['34009', ['lisa', 'wilson'], 35, ['home', 'books', 'clothes'], [329, 189, 329]],\n",
    "         \t\t\t ['34278', ['james', 'lee'], 28, ['beauty', 'clothes', 'electronics'], [189, 299, 579]]]\n",
    "for user in users_clean:\n",
    "    if user[2]<30:\n",
    "        print(user[1][0]) \n",
    "\n",
    "# escribe tu código aquí\n"
   ]
  },
  {
   "cell_type": "markdown",
   "id": "f42c9fa8-7b67-424c-82ae-f0cd9d4ea57f",
   "metadata": {},
   "source": [
    "<div class=\"alert alert-block alert-success\">\n",
    "<b>Comentario de Revisor</b> <a class=\"tocSkip\"></a>\n",
    "\n",
    "Correcta la condición aplicada.\n",
    "\n",
    "</div>"
   ]
  },
  {
   "cell_type": "markdown",
   "id": "RKIkpI9QSkH6",
   "metadata": {
    "id": "RKIkpI9QSkH6"
   },
   "source": [
    "<details>\n",
    "<summary>Haz clic para ver la pista</summary>\n",
    "\n",
    "Usa un bucle `for` para recorrer users_clean y un `if` para filtrar por edad (índice 2). El nombre está en la posición 1 como sublista; usa un segundo índice para acceder a una parte específica. Por ejemplo: `user[3][0]  # accede a la primera categoría (por ejemplo, \"electronics\")`"
   ]
  },
  {
   "cell_type": "markdown",
   "id": "678371ce",
   "metadata": {
    "id": "678371ce"
   },
   "source": [
    "### Paso 7: Jóvenes con alto gasto\n",
    "\n",
    "Ahora filtraremos a los usuarios jóvenes que también han gastado mucho dinero, para que la empresa pueda identificarlos y darles beneficios especiales.\n",
    "\n",
    "Debajo tienes la lista `users_clean` con todos los datos procesados.\n",
    "\n",
    "#### Pasos:\n",
    "\n",
    "1. Escribe un bucle `for` que recorra cada usuario en `users_clean`.\n",
    "2. Calcula el total gastado por cada usuario (suma de la lista de gastos).\n",
    "3. Usa una condición `if` para mostrar solo los usuarios menores de 30 años **y** con un gasto total superior a \\$1000.\n",
    "4. Imprime solo la primera parte del nombre de cada usuario que cumpla ambos criterios.\n"
   ]
  },
  {
   "cell_type": "code",
   "execution_count": 39,
   "id": "00e49c67",
   "metadata": {
    "colab": {
     "base_uri": "https://localhost:8080/"
    },
    "id": "00e49c67",
    "outputId": "be80b712-adfc-4c28-d444-d2b3e5211e73"
   },
   "outputs": [
    {
     "name": "stdout",
     "output_type": "stream",
     "text": [
      "samantha\n",
      "james\n"
     ]
    }
   ],
   "source": [
    "\n",
    "users_clean = [['32415', ['mike', 'reed'], 32, ['electronics', 'sport', 'books'], [894, 213, 173]],\n",
    "         \t\t\t ['31980', ['kate', 'morgan'], 24, ['clothes', 'books'], [439, 390]],\n",
    "         \t\t\t ['32156', ['john', 'doe'], 37, ['electronics', 'home', 'food'], [459, 120, 99]],\n",
    "         \t\t\t ['32761', ['samantha', 'smith'], 29, ['clothes', 'electronics', 'beauty'], [299, 679, 85]],\n",
    "         \t\t\t ['32984', ['david', 'white'], 41, ['books', 'home', 'sport'], [234, 329, 243]],\n",
    "         \t\t\t ['33001', ['emily', 'brown'], 26, ['beauty', 'home', 'food'], [213, 659, 79]],\n",
    "         \t\t\t ['33767', ['maria', 'garcia'], 33, ['clothes', 'food', 'beauty'], [499, 189, 63]],\n",
    "         \t\t\t ['33912', ['jose', 'martinez'], 22, ['sport', 'electronics', 'home'], [259, 549, 109]],\n",
    "         \t\t\t ['34009', ['lisa', 'wilson'], 35, ['home', 'books', 'clothes'], [329, 189, 329]],\n",
    "         \t\t\t ['34278', ['james', 'lee'], 28, ['beauty', 'clothes', 'electronics'], [189, 299, 579]]]\n",
    "\n",
    "for user in users_clean:\n",
    "    gastos= user[-1]\n",
    "    totalg=sum(gastos)\n",
    "    if user[2]<30 and  totalg>1000 :\n",
    "        print(user[1][0]) \n",
    "\n",
    "\n"
   ]
  },
  {
   "cell_type": "markdown",
   "id": "eb417099-328c-470e-a74e-3d9a6dbca3cd",
   "metadata": {},
   "source": [
    "<div class=\"alert alert-block alert-success\">\n",
    "<b>Comentario de Revisor</b> <a class=\"tocSkip\"></a>\n",
    "\n",
    "Muy bien con verificar ambas condiciones.\n",
    "\n",
    "</div>"
   ]
  },
  {
   "cell_type": "markdown",
   "id": "gBB4MIOgSz9L",
   "metadata": {
    "id": "gBB4MIOgSz9L"
   },
   "source": [
    "<details>\n",
    "<summary>Haz clic para ver la pista</summary>\n",
    "\n",
    "La lista de gastos está en la última posición de cada usuario. Puedes sumar sus valores con `sum()`. Usa operadores lógicos como `and` para combinar condiciones dentro del `if`. El nombre es una sublista en la posición 1. Usa índices dobles para acceder a una parte específica."
   ]
  },
  {
   "cell_type": "markdown",
   "id": "307b3fe5",
   "metadata": {
    "id": "307b3fe5"
   },
   "source": [
    "### Paso 8: Usuarios que compraron ropa\n",
    "\n",
    "Store 1 también está explorando patrones de compra por categoría. Comenzamos con la categoría `\"clothes\"`.\n",
    "\n",
    "Debajo tienes la lista `users_clean` con toda la información de compras ya procesada.\n",
    "\n",
    "#### Pasos:\n",
    "\n",
    "1. Escribe un bucle `for` que recorra cada usuario en `users_clean`.\n",
    "2. Usa una condición `if` para verificar si `\"clothes\"` está entre las categorías compradas.\n",
    "3. Si cumple la condición, imprime el nombre del usuario y su edad en la misma línea.\n"
   ]
  },
  {
   "cell_type": "code",
   "execution_count": 41,
   "id": "f48c05ee",
   "metadata": {
    "colab": {
     "base_uri": "https://localhost:8080/"
    },
    "id": "f48c05ee",
    "outputId": "eba91178-d1a6-48c7-b7ae-23a57b89898a"
   },
   "outputs": [
    {
     "name": "stdout",
     "output_type": "stream",
     "text": [
      "['kate', 'morgan'] 24\n",
      "['samantha', 'smith'] 29\n",
      "['maria', 'garcia'] 33\n",
      "['lisa', 'wilson'] 35\n",
      "['james', 'lee'] 28\n"
     ]
    }
   ],
   "source": [
    "users_clean = [['32415', ['mike', 'reed'], 32, ['electronics', 'sport', 'books'], [894, 213, 173]],\n",
    "         \t\t\t ['31980', ['kate', 'morgan'], 24, ['clothes', 'books'], [439, 390]],\n",
    "         \t\t\t ['32156', ['john', 'doe'], 37, ['electronics', 'home', 'food'], [459, 120, 99]],\n",
    "         \t\t\t ['32761', ['samantha', 'smith'], 29, ['clothes', 'electronics', 'beauty'], [299, 679, 85]],\n",
    "         \t\t\t ['32984', ['david', 'white'], 41, ['books', 'home', 'sport'], [234, 329, 243]],\n",
    "         \t\t\t ['33001', ['emily', 'brown'], 26, ['beauty', 'home', 'food'], [213, 659, 79]],\n",
    "         \t\t\t ['33767', ['maria', 'garcia'], 33, ['clothes', 'food', 'beauty'], [499, 189, 63]],\n",
    "         \t\t\t ['33912', ['jose', 'martinez'], 22, ['sport', 'electronics', 'home'], [259, 549, 109]],\n",
    "         \t\t\t ['34009', ['lisa', 'wilson'], 35, ['home', 'books', 'clothes'], [329, 189, 329]],\n",
    "         \t\t\t ['34278', ['james', 'lee'], 28, ['beauty', 'clothes', 'electronics'], [189, 299, 579]]]\n",
    "\n",
    "for user in users_clean:\n",
    "    if 'clothes' in user[3]:\n",
    "        print(user[1], user[2])\n"
   ]
  },
  {
   "cell_type": "markdown",
   "id": "3647c1aa-375d-4fdd-a0a4-e638c392e9a7",
   "metadata": {},
   "source": [
    "<div class=\"alert alert-block alert-success\">\n",
    "<b>Comentario de Revisor</b> <a class=\"tocSkip\"></a>\n",
    "\n",
    "Bien, correcto, buen uso de `in` para verificar la condición\n",
    "    \n",
    "\n",
    "</div>"
   ]
  },
  {
   "cell_type": "markdown",
   "id": "ArFoBUDSTH8B",
   "metadata": {
    "id": "ArFoBUDSTH8B"
   },
   "source": [
    "<details>\n",
    "<summary>Haz clic para ver la pista</summary>\n",
    "\n",
    "La lista de categorías compradas está en la posición 3. Usa el operador `in` para comprobar si una categoría está presente. El nombre está en formato de sublista (índice 1) y la edad en la posición 2. Usa varios índices para acceder a los datos que necesitas."
   ]
  },
  {
   "cell_type": "markdown",
   "id": "5edada87",
   "metadata": {
    "id": "5edada87"
   },
   "source": [
    "### Paso 9: Función con filtro por categoría\n",
    "\n",
    "Para automatizar el análisis por categoría, implementaremos una función reutilizable que permita obtener los clientes que hayan comprado en una categoría específica.\n",
    "\n",
    "Debajo tienes el nombre de la función y una prueba ya preparada con la categoría `\"home\"`. Solo necesitas completar el cuerpo de la función.\n",
    "\n",
    "#### Pasos:\n",
    "\n",
    "1. Completa la definición de la función `get_clients_by_category` con dos argumentos: una lista de usuarios y una categoría a buscar.\n",
    "2. Dentro de la función:\n",
    "\n",
    "   * Crea una lista vacía para guardar los resultados.\n",
    "   * Recorre cada usuario con un bucle `for`.\n",
    "   * Usa una condición `if` para verificar si la categoría está en su lista de compras.\n",
    "   * Si se cumple la condición, agrega a la lista de resultados una sublista con su ID, nombre completo, edad y gasto total.\n",
    "3. Devuelve la lista resultante al final de la función."
   ]
  },
  {
   "cell_type": "code",
   "execution_count": 66,
   "id": "5964a53b",
   "metadata": {
    "colab": {
     "base_uri": "https://localhost:8080/"
    },
    "id": "5964a53b",
    "outputId": "093ec27f-b2a2-4af2-b8b8-4d65ac4d7ad0"
   },
   "outputs": [
    {
     "name": "stdout",
     "output_type": "stream",
     "text": [
      "[['32156', ['john', 'doe'], 37, 678], ['32984', ['david', 'white'], 41, 806], ['33001', ['emily', 'brown'], 26, 951], ['33912', ['jose', 'martinez'], 22, 917], ['34009', ['lisa', 'wilson'], 35, 847]]\n"
     ]
    }
   ],
   "source": [
    "users_clean = [['32415', ['mike', 'reed'], 32, ['electronics', 'sport', 'books'], [894, 213, 173]],\n",
    "         \t\t\t ['31980', ['kate', 'morgan'], 24, ['clothes', 'books'], [439, 390]],\n",
    "         \t\t\t ['32156', ['john', 'doe'], 37, ['electronics', 'home', 'food'], [459, 120, 99]],\n",
    "         \t\t\t ['32761', ['samantha', 'smith'], 29, ['clothes', 'electronics', 'beauty'], [299, 679, 85]],\n",
    "         \t\t\t ['32984', ['david', 'white'], 41, ['books', 'home', 'sport'], [234, 329, 243]],\n",
    "         \t\t\t ['33001', ['emily', 'brown'], 26, ['beauty', 'home', 'food'], [213, 659, 79]],\n",
    "         \t\t\t ['33767', ['maria', 'garcia'], 33, ['clothes', 'food', 'beauty'], [499, 189, 63]],\n",
    "         \t\t\t ['33912', ['jose', 'martinez'], 22, ['sport', 'electronics', 'home'], [259, 549, 109]],\n",
    "         \t\t\t ['34009', ['lisa', 'wilson'], 35, ['home', 'books', 'clothes'], [329, 189, 329]],\n",
    "         \t\t\t ['34278', ['james', 'lee'], 28, ['beauty', 'clothes', 'electronics'], [189, 299, 579]]]\n",
    "\n",
    "def get_clients_by_category(lista,categoria):\n",
    "    result = []\n",
    "    for user in lista:\n",
    "        gastos= user[-1]\n",
    "        totalg=sum(gastos)\n",
    "        if categoria in user[3]:\n",
    "            result.append([user[0],user[1],user[2],totalg])\n",
    "    return result\n",
    "\n",
    "# Prueba con la categoría 'home'\n",
    "filtered = get_clients_by_category(users_clean, 'home')\n",
    "print(filtered)\n"
   ]
  },
  {
   "cell_type": "markdown",
   "id": "eeed54a1-4540-4631-b670-2082bf194de1",
   "metadata": {},
   "source": [
    "<div class=\"alert alert-block alert-success\">\n",
    "<b>Comentario de Revisor</b> <a class=\"tocSkip\"></a>\n",
    "\n",
    "Excelente, buen trabajo. La función definida cumple con todo lo necesario, aplicas correctamente lo utilizado anteriormente en el notebook.\n",
    "    \n",
    "\n",
    "</div>"
   ]
  },
  {
   "cell_type": "markdown",
   "id": "fe4a4846",
   "metadata": {
    "id": "fe4a4846"
   },
   "source": [
    "<details>\n",
    "<summary>Haz clic para ver la pista</summary>\n",
    "La lista de categorías está en la posición 3, y la de gastos en la última posición. Para calcular el gasto total de un usuario, puedes usar `sum()` sobre esa lista. Usa `append()` para agregar un nuevo registro a la lista final.\n",
    "\n",
    "Al ejecutar el código, verás una lista con los usuarios que compraron en la categoría `'home'`."
   ]
  },
  {
   "cell_type": "code",
   "execution_count": null,
   "id": "d153e5f5-7a4e-4418-beb7-8bbe41f83e4a",
   "metadata": {},
   "outputs": [],
   "source": []
  }
 ],
 "metadata": {
  "colab": {
   "provenance": []
  },
  "kernelspec": {
   "display_name": "Python 3 (ipykernel)",
   "language": "python",
   "name": "python3"
  },
  "language_info": {
   "codemirror_mode": {
    "name": "ipython",
    "version": 3
   },
   "file_extension": ".py",
   "mimetype": "text/x-python",
   "name": "python",
   "nbconvert_exporter": "python",
   "pygments_lexer": "ipython3",
   "version": "3.9.23"
  }
 },
 "nbformat": 4,
 "nbformat_minor": 5
}
